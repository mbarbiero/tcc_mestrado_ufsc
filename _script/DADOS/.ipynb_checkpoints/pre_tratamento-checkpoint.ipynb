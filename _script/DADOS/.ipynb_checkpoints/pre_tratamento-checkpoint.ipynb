{
 "cells": [
  {
   "cell_type": "code",
   "execution_count": 1,
   "id": "4d9da963",
   "metadata": {},
   "outputs": [
    {
     "name": "stdout",
     "output_type": "stream",
     "text": [
      "2.2.2\n",
      "      ibge           cd_ui                    logradouro nr_ui\n",
      "0  4118402  01.03.020.0095           136 - SALGADO FILHO   950\n",
      "1  4118402  02.17.011.0151        875 - HELIO DE FREITAS  1293\n",
      "2  4118402  01.03.369.0078           593 - INGO KRAMBECK   S/N\n",
      "3  4118402  01.03.369.0015           593 - INGO KRAMBECK   S/N\n",
      "4  4118402  01.06.275.0060  744 - NELSON MOREIRA BATISTA   S/N\n"
     ]
    }
   ],
   "source": [
    "# Importar arquivo csv e transformar em dataframe\n",
    "import pandas as pd\n",
    "import numpy as np\n",
    "from numpy import nan \n",
    "\n",
    "print(pd.__version__)\n",
    "# Ler o arquivo CSV\n",
    "df = pd.read_csv('./paranavai.csv')\n",
    "df.columns = ['ibge', 'cd_ui', 'logradouro', 'nr_ui']\n",
    "\n",
    "# Mostrar as primeiras linhas do DataFrame\n",
    "print(df.head())\n"
   ]
  },
  {
   "cell_type": "code",
   "execution_count": 3,
   "id": "0c092ff5",
   "metadata": {},
   "outputs": [
    {
     "name": "stdout",
     "output_type": "stream",
     "text": [
      "      ibge           cd_ui                    logradouro nr_ui  id_quadra  \\\n",
      "0  4118402  01.03.020.0095           136 - SALGADO FILHO   950  01.03.020   \n",
      "1  4118402  02.17.011.0151        875 - HELIO DE FREITAS  1293  02.17.011   \n",
      "2  4118402  01.03.369.0078           593 - INGO KRAMBECK   S/N  01.03.369   \n",
      "3  4118402  01.03.369.0015           593 - INGO KRAMBECK   S/N  01.03.369   \n",
      "4  4118402  01.06.275.0060  744 - NELSON MOREIRA BATISTA   S/N  01.06.275   \n",
      "\n",
      "  cd_logradouro           nm_logradouro              id_quadra_logradouro  \n",
      "0           136           SALGADO FILHO           01.03.020_SALGADO FILHO  \n",
      "1           875        HELIO DE FREITAS        02.17.011_HELIO DE FREITAS  \n",
      "2           593           INGO KRAMBECK           01.03.369_INGO KRAMBECK  \n",
      "3           593           INGO KRAMBECK           01.03.369_INGO KRAMBECK  \n",
      "4           744  NELSON MOREIRA BATISTA  01.06.275_NELSON MOREIRA BATISTA  \n"
     ]
    }
   ],
   "source": [
    "# Cria a coluna quadra \n",
    "df['id_quadra'] = df['cd_ui'].str[:9]\n",
    "\n",
    "# limpa a coluna logradouro \n",
    "df[['cd_logradouro', 'nm_logradouro']] = df['logradouro'].str.split(' - ', n=1, expand=True)\n",
    "\n",
    "df['id_quadra_logradouro'] = df['id_quadra'] + '_' + df['nm_logradouro']\n",
    "print(df.head())"
   ]
  },
  {
   "cell_type": "code",
   "execution_count": 5,
   "id": "265489cc",
   "metadata": {},
   "outputs": [
    {
     "name": "stdout",
     "output_type": "stream",
     "text": [
      "      ibge           cd_ui                    logradouro   nr_ui  id_quadra  \\\n",
      "0  4118402  01.03.020.0095           136 - SALGADO FILHO   950.0  01.03.020   \n",
      "1  4118402  02.17.011.0151        875 - HELIO DE FREITAS  1293.0  02.17.011   \n",
      "2  4118402  01.03.369.0078           593 - INGO KRAMBECK     NaN  01.03.369   \n",
      "3  4118402  01.03.369.0015           593 - INGO KRAMBECK     NaN  01.03.369   \n",
      "4  4118402  01.06.275.0060  744 - NELSON MOREIRA BATISTA     NaN  01.06.275   \n",
      "\n",
      "  cd_logradouro           nm_logradouro              id_quadra_logradouro  \n",
      "0           136           SALGADO FILHO           01.03.020_SALGADO FILHO  \n",
      "1           875        HELIO DE FREITAS        02.17.011_HELIO DE FREITAS  \n",
      "2           593           INGO KRAMBECK           01.03.369_INGO KRAMBECK  \n",
      "3           593           INGO KRAMBECK           01.03.369_INGO KRAMBECK  \n",
      "4           744  NELSON MOREIRA BATISTA  01.06.275_NELSON MOREIRA BATISTA  \n"
     ]
    }
   ],
   "source": [
    "#\n",
    "# TRATA NR_UI\n",
    "# \n",
    "def ret_num_ui(nr_ui):\n",
    "    vlr = ''.join(filter(str.isdigit, str(nr_ui)))\n",
    "    if(vlr == ''):\n",
    "        return np.NaN\n",
    "    else:\n",
    "        return vlr\n",
    "\n",
    "df['nr_ui']=df['nr_ui'].apply(lambda x: float(ret_num_ui(x)))\n",
    "\n",
    "print(df.head())"
   ]
  },
  {
   "cell_type": "code",
   "execution_count": 11,
   "id": "d1cfeead",
   "metadata": {},
   "outputs": [
    {
     "data": {
      "text/plain": [
       "id_quadra_logradouro\n",
       "01.01.001_AMAZONAS             1436.000000\n",
       "01.01.001_SALVADOR              767.285714\n",
       "01.01.001_SANTA CATARINA       1535.444444\n",
       "01.01.002_ETTORE GIOVINE       1391.666667\n",
       "01.01.002_RIO GRANDE DO SUL    1435.200000\n",
       "                                  ...     \n",
       "05.01.010_H - MANDIOCABA       1059.833333\n",
       "05.01.011_DAS INDUSTRIAS               NaN\n",
       "05.01.011_H - MANDIOCABA               NaN\n",
       "05.01.011_HENRIQUE RAMOS               NaN\n",
       "05.01.012_DAS INDUSTRIAS               NaN\n",
       "Name: nr_ui, Length: 7449, dtype: float64"
      ]
     },
     "execution_count": 11,
     "metadata": {},
     "output_type": "execute_result"
    }
   ],
   "source": [
    "media_quadra_logradouro = df.groupby('id_quadra_logradouro', dropna=False)['nr_ui'].mean()\n",
    "#df['media_nr_ui'] = df.groupby('id_quadra_logradouro', dropna=False)['nr_ui'].mean()\n",
    "media_quadra_logradouro"
   ]
  },
  {
   "cell_type": "code",
   "execution_count": 9,
   "id": "478eb296",
   "metadata": {},
   "outputs": [
    {
     "name": "stdout",
     "output_type": "stream",
     "text": [
      "                 id_quadra_logradouro  id_quadra cd_logradouro  \\\n",
      "0             01.03.020_SALGADO FILHO  01.03.020           136   \n",
      "1          02.17.011_HELIO DE FREITAS  02.17.011           875   \n",
      "2             01.03.369_INGO KRAMBECK  01.03.369           593   \n",
      "4    01.06.275_NELSON MOREIRA BATISTA  01.06.275           744   \n",
      "5  01.06.278_APRIGIO PEREIRA DA SILVA  01.06.278           745   \n",
      "\n",
      "              nm_logradouro  \n",
      "0             SALGADO FILHO  \n",
      "1          HELIO DE FREITAS  \n",
      "2             INGO KRAMBECK  \n",
      "4    NELSON MOREIRA BATISTA  \n",
      "5  APRIGIO PEREIRA DA SILVA  \n",
      "              id_quadra_logradouro  id_quadra cd_logradouro      nm_logradouro\n",
      "23571           01.01.001_AMAZONAS  01.01.001           105           AMAZONAS\n",
      "5999            01.01.001_SALVADOR  01.01.001            97           SALVADOR\n",
      "6         01.01.001_SANTA CATARINA  01.01.001            84     SANTA CATARINA\n",
      "2790      01.01.002_ETTORE GIOVINE  01.01.002           106     ETTORE GIOVINE\n",
      "2141   01.01.002_RIO GRANDE DO SUL  01.01.002            83  RIO GRANDE DO SUL\n"
     ]
    },
    {
     "name": "stderr",
     "output_type": "stream",
     "text": [
      "C:\\Users\\59186950010\\AppData\\Local\\Temp\\ipykernel_19464\\3885290790.py:7: SettingWithCopyWarning: \n",
      "A value is trying to be set on a copy of a slice from a DataFrame\n",
      "\n",
      "See the caveats in the documentation: https://pandas.pydata.org/pandas-docs/stable/user_guide/indexing.html#returning-a-view-versus-a-copy\n",
      "  df_ch_quadra_logradouro.sort_values(by=['id_quadra_logradouro'], inplace=True)\n"
     ]
    }
   ],
   "source": [
    "## Criar um dataframe apenas com os atributos necessários\n",
    "\n",
    "# Eliminando linhas com dados da quadra + logradouro repetidos\n",
    "df_quadra_logradouro = df.drop_duplicates(subset=['id_quadra_logradouro'])\n",
    "df_ch_quadra_logradouro = df_quadra_logradouro[['id_quadra_logradouro', 'id_quadra', 'cd_logradouro', 'nm_logradouro']]\n",
    "print(df_ch_quadra_logradouro.head())\n",
    "df_ch_quadra_logradouro.sort_values(by=['id_quadra_logradouro'], inplace=True)\n",
    "df_ch_quadra_logradouro.to_csv('./paranavai_logradouros.csv')\n",
    "\n",
    "print(df_ch_quadra_logradouro.head())"
   ]
  },
  {
   "cell_type": "code",
   "execution_count": 13,
   "id": "520e2cda-cec2-4bb3-b3de-9376bc9b0518",
   "metadata": {},
   "outputs": [
    {
     "data": {
      "text/html": [
       "<div>\n",
       "<style scoped>\n",
       "    .dataframe tbody tr th:only-of-type {\n",
       "        vertical-align: middle;\n",
       "    }\n",
       "\n",
       "    .dataframe tbody tr th {\n",
       "        vertical-align: top;\n",
       "    }\n",
       "\n",
       "    .dataframe thead th {\n",
       "        text-align: right;\n",
       "    }\n",
       "</style>\n",
       "<table border=\"1\" class=\"dataframe\">\n",
       "  <thead>\n",
       "    <tr style=\"text-align: right;\">\n",
       "      <th></th>\n",
       "      <th>id_quadra_logradouro</th>\n",
       "      <th>id_quadra</th>\n",
       "      <th>cd_logradouro</th>\n",
       "      <th>nm_logradouro</th>\n",
       "      <th>nr_ui</th>\n",
       "    </tr>\n",
       "  </thead>\n",
       "  <tbody>\n",
       "    <tr>\n",
       "      <th>23571</th>\n",
       "      <td>01.01.001_AMAZONAS</td>\n",
       "      <td>01.01.001</td>\n",
       "      <td>105</td>\n",
       "      <td>AMAZONAS</td>\n",
       "      <td>1436.000000</td>\n",
       "    </tr>\n",
       "    <tr>\n",
       "      <th>5999</th>\n",
       "      <td>01.01.001_SALVADOR</td>\n",
       "      <td>01.01.001</td>\n",
       "      <td>97</td>\n",
       "      <td>SALVADOR</td>\n",
       "      <td>767.285714</td>\n",
       "    </tr>\n",
       "    <tr>\n",
       "      <th>6</th>\n",
       "      <td>01.01.001_SANTA CATARINA</td>\n",
       "      <td>01.01.001</td>\n",
       "      <td>84</td>\n",
       "      <td>SANTA CATARINA</td>\n",
       "      <td>1535.444444</td>\n",
       "    </tr>\n",
       "    <tr>\n",
       "      <th>2790</th>\n",
       "      <td>01.01.002_ETTORE GIOVINE</td>\n",
       "      <td>01.01.002</td>\n",
       "      <td>106</td>\n",
       "      <td>ETTORE GIOVINE</td>\n",
       "      <td>1391.666667</td>\n",
       "    </tr>\n",
       "    <tr>\n",
       "      <th>2141</th>\n",
       "      <td>01.01.002_RIO GRANDE DO SUL</td>\n",
       "      <td>01.01.002</td>\n",
       "      <td>83</td>\n",
       "      <td>RIO GRANDE DO SUL</td>\n",
       "      <td>1435.200000</td>\n",
       "    </tr>\n",
       "    <tr>\n",
       "      <th>...</th>\n",
       "      <td>...</td>\n",
       "      <td>...</td>\n",
       "      <td>...</td>\n",
       "      <td>...</td>\n",
       "      <td>...</td>\n",
       "    </tr>\n",
       "    <tr>\n",
       "      <th>18495</th>\n",
       "      <td>05.01.010_H - MANDIOCABA</td>\n",
       "      <td>05.01.010</td>\n",
       "      <td>378</td>\n",
       "      <td>H - MANDIOCABA</td>\n",
       "      <td>1059.833333</td>\n",
       "    </tr>\n",
       "    <tr>\n",
       "      <th>51686</th>\n",
       "      <td>05.01.011_DAS INDUSTRIAS</td>\n",
       "      <td>05.01.011</td>\n",
       "      <td>384</td>\n",
       "      <td>DAS INDUSTRIAS</td>\n",
       "      <td>NaN</td>\n",
       "    </tr>\n",
       "    <tr>\n",
       "      <th>51678</th>\n",
       "      <td>05.01.011_H - MANDIOCABA</td>\n",
       "      <td>05.01.011</td>\n",
       "      <td>378</td>\n",
       "      <td>H - MANDIOCABA</td>\n",
       "      <td>NaN</td>\n",
       "    </tr>\n",
       "    <tr>\n",
       "      <th>26919</th>\n",
       "      <td>05.01.011_HENRIQUE RAMOS</td>\n",
       "      <td>05.01.011</td>\n",
       "      <td>676</td>\n",
       "      <td>HENRIQUE RAMOS</td>\n",
       "      <td>NaN</td>\n",
       "    </tr>\n",
       "    <tr>\n",
       "      <th>25641</th>\n",
       "      <td>05.01.012_DAS INDUSTRIAS</td>\n",
       "      <td>05.01.012</td>\n",
       "      <td>384</td>\n",
       "      <td>DAS INDUSTRIAS</td>\n",
       "      <td>NaN</td>\n",
       "    </tr>\n",
       "  </tbody>\n",
       "</table>\n",
       "<p>7449 rows × 5 columns</p>\n",
       "</div>"
      ],
      "text/plain": [
       "              id_quadra_logradouro  id_quadra cd_logradouro  \\\n",
       "23571           01.01.001_AMAZONAS  01.01.001           105   \n",
       "5999            01.01.001_SALVADOR  01.01.001            97   \n",
       "6         01.01.001_SANTA CATARINA  01.01.001            84   \n",
       "2790      01.01.002_ETTORE GIOVINE  01.01.002           106   \n",
       "2141   01.01.002_RIO GRANDE DO SUL  01.01.002            83   \n",
       "...                            ...        ...           ...   \n",
       "18495     05.01.010_H - MANDIOCABA  05.01.010           378   \n",
       "51686     05.01.011_DAS INDUSTRIAS  05.01.011           384   \n",
       "51678     05.01.011_H - MANDIOCABA  05.01.011           378   \n",
       "26919     05.01.011_HENRIQUE RAMOS  05.01.011           676   \n",
       "25641     05.01.012_DAS INDUSTRIAS  05.01.012           384   \n",
       "\n",
       "           nm_logradouro        nr_ui  \n",
       "23571           AMAZONAS  1436.000000  \n",
       "5999            SALVADOR   767.285714  \n",
       "6         SANTA CATARINA  1535.444444  \n",
       "2790      ETTORE GIOVINE  1391.666667  \n",
       "2141   RIO GRANDE DO SUL  1435.200000  \n",
       "...                  ...          ...  \n",
       "18495     H - MANDIOCABA  1059.833333  \n",
       "51686     DAS INDUSTRIAS          NaN  \n",
       "51678     H - MANDIOCABA          NaN  \n",
       "26919     HENRIQUE RAMOS          NaN  \n",
       "25641     DAS INDUSTRIAS          NaN  \n",
       "\n",
       "[7449 rows x 5 columns]"
      ]
     },
     "execution_count": 13,
     "metadata": {},
     "output_type": "execute_result"
    }
   ],
   "source": [
    "# Junta os dados das quadras com a média dos números dos endereços das UIs\n",
    "df_ch_quadra_logradouro.join(media_quadra_logradouro, on='id_quadra_logradouro')"
   ]
  },
  {
   "cell_type": "code",
   "execution_count": null,
   "id": "17b04ace-8445-43ff-a120-7a9072b20678",
   "metadata": {},
   "outputs": [],
   "source": [
    "# Agrupa as linhas com mesmo id_quadra\n",
    "logradouros_por_quadra =df_ch_quadra_logradouro.groupby('id_quadra').agg(lambda x: set(x))\n",
    "logradouros_por_quadra['qt_logradouros'] = df_ch_quadra_logradouro.groupby('id_quadra')[['nm_logradouro']].count()\n",
    "logradouros_por_quadra.sort_values(by='qt_logradouros', inplace=True, ascending=False)\n",
    "logradouros_por_quadra.to_csv('./paranavai_logradouros_por_quadra.csv')\n",
    "#print(logradouros_por_quadra)\n",
    "\n",
    "# Agrupa as linhas com mesmo nm_logradouro\n",
    "#quadras_por_logradouro = df_ch_quadra_logradouro.groupby('nm_logradouro')[['id_quadra']].agg(lambda x: set(x))\n",
    "quadras_por_logradouro = df_ch_quadra_logradouro.groupby('nm_logradouro')[['id_quadra']].agg(lambda x: list(x))\n",
    "\n",
    "quadras_por_logradouro['qt_quadras'] = df_ch_quadra_logradouro.groupby('nm_logradouro')[['id_quadra']].count()\n",
    "quadras_por_logradouro.sort_values(by='qt_quadras', inplace=True, ascending=False)\n",
    "quadras_por_logradouro.to_csv('./paranavai_quadras_por_logradouro.csv')\n",
    "print(quadras_por_logradouro)"
   ]
  },
  {
   "cell_type": "code",
   "execution_count": null,
   "id": "4c7fdb46",
   "metadata": {},
   "outputs": [],
   "source": [
    "semente = df.loc[df['nm_logradouro'] == 'DEPUTADO HEITOR ALENCAR FURTADO']\n",
    "print(semente)"
   ]
  },
  {
   "cell_type": "code",
   "execution_count": null,
   "id": "05d3b468",
   "metadata": {
    "scrolled": true
   },
   "outputs": [],
   "source": [
    "paralelas = pd.merge(semente, df, how = 'inner', on = 'id_quadra')\n",
    "paralelas = paralelas.loc[paralelas['nm_logradouro_y']!='DEPUTADO HEITOR ALENCAR FURTADO']\n",
    "paralelas = paralelas[['nm_logradouro_y', 'id_quadra']]\n",
    "\n",
    "paralelas = paralelas.groupby(['nm_logradouro_y']).count()\n",
    "paralelas.sort_values(by='id_quadra', inplace=True, ascending=False)\n",
    "\n",
    "print(paralelas)\n",
    "\n"
   ]
  }
 ],
 "metadata": {
  "kernelspec": {
   "display_name": "Python 3 (ipykernel)",
   "language": "python",
   "name": "python3"
  },
  "language_info": {
   "codemirror_mode": {
    "name": "ipython",
    "version": 3
   },
   "file_extension": ".py",
   "mimetype": "text/x-python",
   "name": "python",
   "nbconvert_exporter": "python",
   "pygments_lexer": "ipython3",
   "version": "3.12.4"
  }
 },
 "nbformat": 4,
 "nbformat_minor": 5
}

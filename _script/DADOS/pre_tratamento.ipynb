{
 "cells": [
  {
   "cell_type": "code",
   "execution_count": 3,
   "metadata": {},
   "outputs": [
    {
     "name": "stdout",
     "output_type": "stream",
     "text": [
      "      ibge           cd_ui                    logradouro nr_ui\n",
      "0  4118402  01.03.020.0095           136 - SALGADO FILHO   950\n",
      "1  4118402  02.17.011.0151        875 - HELIO DE FREITAS  1293\n",
      "2  4118402  01.03.369.0078           593 - INGO KRAMBECK   S/N\n",
      "3  4118402  01.03.369.0015           593 - INGO KRAMBECK   S/N\n",
      "4  4118402  01.06.275.0060  744 - NELSON MOREIRA BATISTA   S/N\n"
     ]
    }
   ],
   "source": [
    "# Importar arquivo csv e transformar em dataframe\n",
    "import pandas as pd\n",
    "\n",
    "# Ler o arquivo CSV\n",
    "df = pd.read_csv('./paranavai.csv')\n",
    "df.columns = ['ibge', 'cd_ui', 'logradouro', 'nr_ui']\n",
    "\n",
    "# Mostrar as primeiras linhas do DataFrame\n",
    "print(df.head())\n"
   ]
  },
  {
   "cell_type": "code",
   "execution_count": 4,
   "metadata": {},
   "outputs": [
    {
     "name": "stdout",
     "output_type": "stream",
     "text": [
      "      ibge           cd_ui                    logradouro nr_ui  id_quadra  \\\n",
      "0  4118402  01.03.020.0095           136 - SALGADO FILHO   950  01.03.020   \n",
      "1  4118402  02.17.011.0151        875 - HELIO DE FREITAS  1293  02.17.011   \n",
      "2  4118402  01.03.369.0078           593 - INGO KRAMBECK   S/N  01.03.369   \n",
      "3  4118402  01.03.369.0015           593 - INGO KRAMBECK   S/N  01.03.369   \n",
      "4  4118402  01.06.275.0060  744 - NELSON MOREIRA BATISTA   S/N  01.06.275   \n",
      "\n",
      "  cd_logradouro           nm_logradouro              id_quadra_logradouro  \n",
      "0           136           SALGADO FILHO           01.03.020_SALGADO FILHO  \n",
      "1           875        HELIO DE FREITAS        02.17.011_HELIO DE FREITAS  \n",
      "2           593           INGO KRAMBECK           01.03.369_INGO KRAMBECK  \n",
      "3           593           INGO KRAMBECK           01.03.369_INGO KRAMBECK  \n",
      "4           744  NELSON MOREIRA BATISTA  01.06.275_NELSON MOREIRA BATISTA  \n"
     ]
    }
   ],
   "source": [
    "# Cria a coluna quadra \n",
    "df['id_quadra'] = df['cd_ui'].str[:9]\n",
    "\n",
    "# limpa a coluna logradouro \n",
    "df[['cd_logradouro', 'nm_logradouro']] = df['logradouro'].str.split(' - ', n=1, expand=True)\n",
    "\n",
    "df['id_quadra_logradouro'] = df['id_quadra'] + '_' + df['nm_logradouro']\n",
    "print(df.head())"
   ]
  },
  {
   "cell_type": "code",
   "execution_count": 5,
   "metadata": {},
   "outputs": [
    {
     "name": "stdout",
     "output_type": "stream",
     "text": [
      "              id_quadra_logradouro  id_quadra cd_logradouro      nm_logradouro\n",
      "23571           01.01.001_AMAZONAS  01.01.001           105           AMAZONAS\n",
      "5999            01.01.001_SALVADOR  01.01.001            97           SALVADOR\n",
      "6         01.01.001_SANTA CATARINA  01.01.001            84     SANTA CATARINA\n",
      "2790      01.01.002_ETTORE GIOVINE  01.01.002           106     ETTORE GIOVINE\n",
      "2141   01.01.002_RIO GRANDE DO SUL  01.01.002            83  RIO GRANDE DO SUL\n"
     ]
    },
    {
     "name": "stderr",
     "output_type": "stream",
     "text": [
      "C:\\Users\\User\\AppData\\Local\\Temp\\ipykernel_13884\\3525111040.py:6: SettingWithCopyWarning: \n",
      "A value is trying to be set on a copy of a slice from a DataFrame\n",
      "\n",
      "See the caveats in the documentation: https://pandas.pydata.org/pandas-docs/stable/user_guide/indexing.html#returning-a-view-versus-a-copy\n",
      "  df_ch_quadra_logradouro.sort_values(by='id_quadra_logradouro', inplace=True)\n"
     ]
    }
   ],
   "source": [
    "## Criar um dataframe apenas com os atributos necessários\n",
    "\n",
    "# Eliminando linhas com dados da quadra + logradouro repetidos\n",
    "df_quadra_logradouro = df.drop_duplicates(subset=['id_quadra_logradouro'])\n",
    "df_ch_quadra_logradouro = df_quadra_logradouro[['id_quadra_logradouro', 'id_quadra', 'cd_logradouro', 'nm_logradouro']]\n",
    "df_ch_quadra_logradouro.sort_values(by='id_quadra_logradouro', inplace=True)\n",
    "df_ch_quadra_logradouro.to_csv('./paranavai_logradouros.csv')\n",
    "\n",
    "print(df_ch_quadra_logradouro.head())"
   ]
  },
  {
   "cell_type": "code",
   "execution_count": 8,
   "metadata": {},
   "outputs": [
    {
     "name": "stdout",
     "output_type": "stream",
     "text": [
      "                                                                                          id_quadra  \\\n",
      "nm_logradouro                                                                                         \n",
      "DEPUTADO HEITOR ALENCAR FURTADO                   [01.02.153, 01.02.155, 01.02.156, 01.02.166, 0...   \n",
      "PRES TANCREDO NEVES                               [01.02.034, 01.02.035, 01.02.063, 01.02.064, 0...   \n",
      "AMAZONAS                                          [01.01.001, 01.01.024, 01.01.025, 01.01.048, 0...   \n",
      "LUIZ SPIGOLON                                     [01.01.012, 01.01.013, 01.01.036, 01.01.037, 0...   \n",
      "ANTONIO FELIPPE                                   [01.01.061, 01.01.062, 01.01.063, 01.01.065, 0...   \n",
      "...                                                                                             ...   \n",
      "JACARANDA - COND RES GREEN PARK                                                         [01.06.124]   \n",
      "JACARANDA-COND RES BOUGAINVILLE RESIDENCE&RESORT                                        [01.04.402]   \n",
      "PESSEGUEIRAS                                                                            [01.04.402]   \n",
      "CRISTINO RODRIGUES NOGUEIRA                                                             [01.03.541]   \n",
      "PROJETADA B - COND DANCAIZ RESIDENCE                                                    [01.02.476]   \n",
      "\n",
      "                                                  qt_quadras  \n",
      "nm_logradouro                                                 \n",
      "DEPUTADO HEITOR ALENCAR FURTADO                          106  \n",
      "PRES TANCREDO NEVES                                       70  \n",
      "AMAZONAS                                                  58  \n",
      "LUIZ SPIGOLON                                             55  \n",
      "ANTONIO FELIPPE                                           54  \n",
      "...                                                      ...  \n",
      "JACARANDA - COND RES GREEN PARK                            1  \n",
      "JACARANDA-COND RES BOUGAINVILLE RESIDENCE&RESORT           1  \n",
      "PESSEGUEIRAS                                               1  \n",
      "CRISTINO RODRIGUES NOGUEIRA                                1  \n",
      "PROJETADA B - COND DANCAIZ RESIDENCE                       1  \n",
      "\n",
      "[1000 rows x 2 columns]\n"
     ]
    }
   ],
   "source": [
    "# Agrupa as linhas com mesmo id_quadra\n",
    "logradouros_por_quadra =df_ch_quadra_logradouro.groupby('id_quadra').agg(lambda x: set(x))\n",
    "logradouros_por_quadra['qt_logradouros'] = df_ch_quadra_logradouro.groupby('id_quadra')[['nm_logradouro']].count()\n",
    "logradouros_por_quadra.sort_values(by='qt_logradouros', inplace=True, ascending=False)\n",
    "logradouros_por_quadra.to_csv('./paranavai_logradouros_por_quadra.csv')\n",
    "#print(logradouros_por_quadra)\n",
    "\n",
    "# Agrupa as linhas com mesmo nm_logradouro\n",
    "#quadras_por_logradouro = df_ch_quadra_logradouro.groupby('nm_logradouro')[['id_quadra']].agg(lambda x: set(x))\n",
    "quadras_por_logradouro = df_ch_quadra_logradouro.groupby('nm_logradouro')[['id_quadra']].agg(lambda x: list(x))\n",
    "\n",
    "quadras_por_logradouro['qt_quadras'] = df_ch_quadra_logradouro.groupby('nm_logradouro')[['id_quadra']].count()\n",
    "quadras_por_logradouro.sort_values(by='qt_quadras', inplace=True, ascending=False)\n",
    "quadras_por_logradouro.to_csv('./paranavai_quadras_por_logradouro.csv')\n",
    "print(quadras_por_logradouro)"
   ]
  },
  {
   "cell_type": "code",
   "execution_count": 89,
   "metadata": {},
   "outputs": [
    {
     "name": "stdout",
     "output_type": "stream",
     "text": [
      "          ibge           cd_ui                              logradouro nr_ui  \\\n",
      "7      4118402  01.02.267.0352  6713 - DEPUTADO HEITOR ALENCAR FURTADO  8279   \n",
      "8      4118402  01.02.267.0352  6713 - DEPUTADO HEITOR ALENCAR FURTADO  8279   \n",
      "34     4118402  01.04.233.0160  6713 - DEPUTADO HEITOR ALENCAR FURTADO  1038   \n",
      "35     4118402  01.04.233.0160  6713 - DEPUTADO HEITOR ALENCAR FURTADO  1938   \n",
      "406    4118402  01.03.040.0109  6713 - DEPUTADO HEITOR ALENCAR FURTADO  4413   \n",
      "...        ...             ...                                     ...   ...   \n",
      "51007  4118402  01.04.228.0226  6713 - DEPUTADO HEITOR ALENCAR FURTADO  2415   \n",
      "51010  4118402  01.04.110.0092  6713 - DEPUTADO HEITOR ALENCAR FURTADO  1399   \n",
      "51042  4118402  01.04.079.0228  6713 - DEPUTADO HEITOR ALENCAR FURTADO   S/N   \n",
      "51091  4118402  01.03.063.0379  6713 - DEPUTADO HEITOR ALENCAR FURTADO    67   \n",
      "51705  4118402  01.03.065.0544  6713 - DEPUTADO HEITOR ALENCAR FURTADO  3260   \n",
      "\n",
      "       id_quadra cd_logradouro                    nm_logradouro  \\\n",
      "7      01.02.267          6713  DEPUTADO HEITOR ALENCAR FURTADO   \n",
      "8      01.02.267          6713  DEPUTADO HEITOR ALENCAR FURTADO   \n",
      "34     01.04.233          6713  DEPUTADO HEITOR ALENCAR FURTADO   \n",
      "35     01.04.233          6713  DEPUTADO HEITOR ALENCAR FURTADO   \n",
      "406    01.03.040          6713  DEPUTADO HEITOR ALENCAR FURTADO   \n",
      "...          ...           ...                              ...   \n",
      "51007  01.04.228          6713  DEPUTADO HEITOR ALENCAR FURTADO   \n",
      "51010  01.04.110          6713  DEPUTADO HEITOR ALENCAR FURTADO   \n",
      "51042  01.04.079          6713  DEPUTADO HEITOR ALENCAR FURTADO   \n",
      "51091  01.03.063          6713  DEPUTADO HEITOR ALENCAR FURTADO   \n",
      "51705  01.03.065          6713  DEPUTADO HEITOR ALENCAR FURTADO   \n",
      "\n",
      "                            id_quadra_logradouro  \n",
      "7      01.02.267_DEPUTADO HEITOR ALENCAR FURTADO  \n",
      "8      01.02.267_DEPUTADO HEITOR ALENCAR FURTADO  \n",
      "34     01.04.233_DEPUTADO HEITOR ALENCAR FURTADO  \n",
      "35     01.04.233_DEPUTADO HEITOR ALENCAR FURTADO  \n",
      "406    01.03.040_DEPUTADO HEITOR ALENCAR FURTADO  \n",
      "...                                          ...  \n",
      "51007  01.04.228_DEPUTADO HEITOR ALENCAR FURTADO  \n",
      "51010  01.04.110_DEPUTADO HEITOR ALENCAR FURTADO  \n",
      "51042  01.04.079_DEPUTADO HEITOR ALENCAR FURTADO  \n",
      "51091  01.03.063_DEPUTADO HEITOR ALENCAR FURTADO  \n",
      "51705  01.03.065_DEPUTADO HEITOR ALENCAR FURTADO  \n",
      "\n",
      "[742 rows x 8 columns]\n"
     ]
    }
   ],
   "source": [
    "semente = df.loc[df['nm_logradouro'] == 'DEPUTADO HEITOR ALENCAR FURTADO']\n",
    "print(semente)"
   ]
  },
  {
   "cell_type": "code",
   "execution_count": 91,
   "metadata": {
    "scrolled": true
   },
   "outputs": [
    {
     "name": "stdout",
     "output_type": "stream",
     "text": [
      "                        id_quadra\n",
      "nm_logradouro_y                  \n",
      "PROF GERALDO LONGO            667\n",
      "ANTONIO JOSE DA SILVA         627\n",
      "BARAO DO RIO BRANCO           603\n",
      "VISCONDE DE GUARAPUAVA        494\n",
      "PARAGUACU                     420\n",
      "...                           ...\n",
      "ANTENOR GRIGOLI                 6\n",
      "SAO CRISTOVAO                   5\n",
      "PARANA                          3\n",
      "ANTONIO VENDRAMIN               3\n",
      "SAO SALVADOR                    2\n",
      "\n",
      "[94 rows x 1 columns]\n"
     ]
    }
   ],
   "source": [
    "paralelas = pd.merge(semente, df, how = 'inner', on = 'id_quadra')\n",
    "paralelas = paralelas.loc[paralelas['nm_logradouro_y']!='DEPUTADO HEITOR ALENCAR FURTADO']\n",
    "paralelas = paralelas[['nm_logradouro_y', 'id_quadra']]\n",
    "\n",
    "paralelas = paralelas.groupby(['nm_logradouro_y']).count()\n",
    "paralelas.sort_values(by='id_quadra', inplace=True, ascending=False)\n",
    "\n",
    "print(paralelas)\n",
    "\n"
   ]
  }
 ],
 "metadata": {
  "kernelspec": {
   "display_name": "Python 3",
   "language": "python",
   "name": "python3"
  },
  "language_info": {
   "codemirror_mode": {
    "name": "ipython",
    "version": 3
   },
   "file_extension": ".py",
   "mimetype": "text/x-python",
   "name": "python",
   "nbconvert_exporter": "python",
   "pygments_lexer": "ipython3",
   "version": "3.12.3"
  }
 },
 "nbformat": 4,
 "nbformat_minor": 5
}

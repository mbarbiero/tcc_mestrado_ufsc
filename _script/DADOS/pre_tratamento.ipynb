{
 "cells": [
  {
   "cell_type": "code",
   "execution_count": 2,
   "metadata": {},
   "outputs": [
    {
     "name": "stdout",
     "output_type": "stream",
     "text": [
      "2.0.3\n",
      "      ibge           cd_ui                    logradouro nr_ui\n",
      "0  4118402  01.03.020.0095           136 - SALGADO FILHO   950\n",
      "1  4118402  02.17.011.0151        875 - HELIO DE FREITAS  1293\n",
      "2  4118402  01.03.369.0078           593 - INGO KRAMBECK   S/N\n",
      "3  4118402  01.03.369.0015           593 - INGO KRAMBECK   S/N\n",
      "4  4118402  01.06.275.0060  744 - NELSON MOREIRA BATISTA   S/N\n"
     ]
    }
   ],
   "source": [
    "# Importar arquivo csv e transformar em dataframe\n",
    "import pandas as pd\n",
    "import numpy as np\n",
    "from numpy import nan \n",
    "\n",
    "print(pd.__version__)\n",
    "# Ler o arquivo CSV\n",
    "df = pd.read_csv('./paranavai.csv')\n",
    "df.columns = ['ibge', 'cd_ui', 'logradouro', 'nr_ui']\n",
    "\n",
    "# Mostrar as primeiras linhas do DataFrame\n",
    "print(df.head())\n"
   ]
  },
  {
   "cell_type": "code",
   "execution_count": 3,
   "metadata": {},
   "outputs": [
    {
     "name": "stdout",
     "output_type": "stream",
     "text": [
      "      ibge           cd_ui                    logradouro nr_ui  id_quadra  \\\n",
      "0  4118402  01.03.020.0095           136 - SALGADO FILHO   950  01.03.020   \n",
      "1  4118402  02.17.011.0151        875 - HELIO DE FREITAS  1293  02.17.011   \n",
      "2  4118402  01.03.369.0078           593 - INGO KRAMBECK   S/N  01.03.369   \n",
      "3  4118402  01.03.369.0015           593 - INGO KRAMBECK   S/N  01.03.369   \n",
      "4  4118402  01.06.275.0060  744 - NELSON MOREIRA BATISTA   S/N  01.06.275   \n",
      "\n",
      "  cd_logradouro           nm_logradouro              id_quadra_logradouro  \n",
      "0           136           SALGADO FILHO           01.03.020_SALGADO FILHO  \n",
      "1           875        HELIO DE FREITAS        02.17.011_HELIO DE FREITAS  \n",
      "2           593           INGO KRAMBECK           01.03.369_INGO KRAMBECK  \n",
      "3           593           INGO KRAMBECK           01.03.369_INGO KRAMBECK  \n",
      "4           744  NELSON MOREIRA BATISTA  01.06.275_NELSON MOREIRA BATISTA  \n"
     ]
    }
   ],
   "source": [
    "# Cria a coluna quadra \n",
    "df['id_quadra'] = df['cd_ui'].str[:9]\n",
    "\n",
    "# limpa a coluna logradouro \n",
    "df[['cd_logradouro', 'nm_logradouro']] = df['logradouro'].str.split(' - ', n=1, expand=True)\n",
    "\n",
    "df['id_quadra_logradouro'] = df['id_quadra'] + '_' + df['nm_logradouro']\n",
    "print(df.head())"
   ]
  },
  {
   "cell_type": "code",
   "execution_count": 4,
   "metadata": {},
   "outputs": [
    {
     "name": "stdout",
     "output_type": "stream",
     "text": [
      "      ibge           cd_ui                    logradouro   nr_ui  id_quadra  \\\n",
      "0  4118402  01.03.020.0095           136 - SALGADO FILHO   950.0  01.03.020   \n",
      "1  4118402  02.17.011.0151        875 - HELIO DE FREITAS  1293.0  02.17.011   \n",
      "2  4118402  01.03.369.0078           593 - INGO KRAMBECK     NaN  01.03.369   \n",
      "3  4118402  01.03.369.0015           593 - INGO KRAMBECK     NaN  01.03.369   \n",
      "4  4118402  01.06.275.0060  744 - NELSON MOREIRA BATISTA     NaN  01.06.275   \n",
      "\n",
      "  cd_logradouro           nm_logradouro              id_quadra_logradouro  \n",
      "0           136           SALGADO FILHO           01.03.020_SALGADO FILHO  \n",
      "1           875        HELIO DE FREITAS        02.17.011_HELIO DE FREITAS  \n",
      "2           593           INGO KRAMBECK           01.03.369_INGO KRAMBECK  \n",
      "3           593           INGO KRAMBECK           01.03.369_INGO KRAMBECK  \n",
      "4           744  NELSON MOREIRA BATISTA  01.06.275_NELSON MOREIRA BATISTA  \n"
     ]
    }
   ],
   "source": [
    "#\n",
    "# TRATA NR_UI\n",
    "# \n",
    "def ret_num_ui(nr_ui):\n",
    "    vlr = ''.join(filter(str.isdigit, str(nr_ui)))\n",
    "    if(vlr == ''):\n",
    "        return np.NaN\n",
    "    else:\n",
    "        return vlr\n",
    "\n",
    "df['nr_ui']=df['nr_ui'].apply(lambda x: float(ret_num_ui(x)))\n",
    "\n",
    "print(df.head())"
   ]
  },
  {
   "cell_type": "code",
   "execution_count": 5,
   "metadata": {},
   "outputs": [
    {
     "data": {
      "text/plain": [
       "id_quadra_logradouro\n",
       "01.01.001_AMAZONAS             1436.000000\n",
       "01.01.001_SALVADOR              767.285714\n",
       "01.01.001_SANTA CATARINA       1535.444444\n",
       "01.01.002_ETTORE GIOVINE       1391.666667\n",
       "01.01.002_RIO GRANDE DO SUL    1435.200000\n",
       "                                  ...     \n",
       "05.01.010_H - MANDIOCABA       1059.833333\n",
       "05.01.011_DAS INDUSTRIAS               NaN\n",
       "05.01.011_H - MANDIOCABA               NaN\n",
       "05.01.011_HENRIQUE RAMOS               NaN\n",
       "05.01.012_DAS INDUSTRIAS               NaN\n",
       "Name: nr_ui, Length: 7449, dtype: float64"
      ]
     },
     "execution_count": 5,
     "metadata": {},
     "output_type": "execute_result"
    }
   ],
   "source": [
    "media_quadra_logradouro = df.groupby('id_quadra_logradouro', dropna=False)['nr_ui'].mean()\n",
    "#df['media_nr_ui'] = df.groupby('id_quadra_logradouro', dropna=False)['nr_ui'].mean()\n",
    "media_quadra_logradouro"
   ]
  },
  {
   "cell_type": "code",
   "execution_count": 6,
   "metadata": {},
   "outputs": [
    {
     "name": "stdout",
     "output_type": "stream",
     "text": [
      "                 id_quadra_logradouro  id_quadra cd_logradouro  \\\n",
      "0             01.03.020_SALGADO FILHO  01.03.020           136   \n",
      "1          02.17.011_HELIO DE FREITAS  02.17.011           875   \n",
      "2             01.03.369_INGO KRAMBECK  01.03.369           593   \n",
      "4    01.06.275_NELSON MOREIRA BATISTA  01.06.275           744   \n",
      "5  01.06.278_APRIGIO PEREIRA DA SILVA  01.06.278           745   \n",
      "\n",
      "              nm_logradouro  \n",
      "0             SALGADO FILHO  \n",
      "1          HELIO DE FREITAS  \n",
      "2             INGO KRAMBECK  \n",
      "4    NELSON MOREIRA BATISTA  \n",
      "5  APRIGIO PEREIRA DA SILVA  \n",
      "              id_quadra_logradouro  id_quadra cd_logradouro      nm_logradouro\n",
      "23571           01.01.001_AMAZONAS  01.01.001           105           AMAZONAS\n",
      "5999            01.01.001_SALVADOR  01.01.001            97           SALVADOR\n",
      "6         01.01.001_SANTA CATARINA  01.01.001            84     SANTA CATARINA\n",
      "2790      01.01.002_ETTORE GIOVINE  01.01.002           106     ETTORE GIOVINE\n",
      "2141   01.01.002_RIO GRANDE DO SUL  01.01.002            83  RIO GRANDE DO SUL\n"
     ]
    },
    {
     "name": "stderr",
     "output_type": "stream",
     "text": [
      "<ipython-input-6-eab5c911ede4>:7: SettingWithCopyWarning: \n",
      "A value is trying to be set on a copy of a slice from a DataFrame\n",
      "\n",
      "See the caveats in the documentation: https://pandas.pydata.org/pandas-docs/stable/user_guide/indexing.html#returning-a-view-versus-a-copy\n",
      "  df_ch_quadra_logradouro.sort_values(by=['id_quadra_logradouro'], inplace=True)\n"
     ]
    }
   ],
   "source": [
    "## Criar um dataframe apenas com os atributos necessários\n",
    "\n",
    "# Eliminando linhas com dados da quadra + logradouro repetidos\n",
    "df_quadra_logradouro = df.drop_duplicates(subset=['id_quadra_logradouro'])\n",
    "df_ch_quadra_logradouro = df_quadra_logradouro[['id_quadra_logradouro', 'id_quadra', 'cd_logradouro', 'nm_logradouro']]\n",
    "print(df_ch_quadra_logradouro.head())\n",
    "df_ch_quadra_logradouro.sort_values(by=['id_quadra_logradouro'], inplace=True)\n",
    "df_ch_quadra_logradouro.to_csv('./paranavai_logradouros.csv')\n",
    "\n",
    "print(df_ch_quadra_logradouro.head())"
   ]
  },
  {
   "cell_type": "code",
   "execution_count": 7,
   "metadata": {},
   "outputs": [],
   "source": [
    "# Junta os dados das quadras com a média dos números dos endereços das UIs\n",
    "df_ch_quadra_logradouro = df_ch_quadra_logradouro.join(media_quadra_logradouro, on='id_quadra_logradouro')"
   ]
  },
  {
   "cell_type": "code",
   "execution_count": 11,
   "metadata": {},
   "outputs": [
    {
     "name": "stdout",
     "output_type": "stream",
     "text": [
      "                                                                                          id_quadra  \\\n",
      "nm_logradouro                                                                                         \n",
      "DEPUTADO HEITOR ALENCAR FURTADO                   [01.02.153, 01.02.155, 01.02.156, 01.02.166, 0...   \n",
      "PRES TANCREDO NEVES                               [01.02.034, 01.02.035, 01.02.063, 01.02.064, 0...   \n",
      "AMAZONAS                                          [01.01.001, 01.01.024, 01.01.025, 01.01.048, 0...   \n",
      "LUIZ SPIGOLON                                     [01.01.012, 01.01.013, 01.01.036, 01.01.037, 0...   \n",
      "ANTONIO FELIPPE                                   [01.01.061, 01.01.062, 01.01.063, 01.01.065, 0...   \n",
      "...                                                                                             ...   \n",
      "JACARANDA - COND RES GREEN PARK                                                         [01.06.124]   \n",
      "JACARANDA-COND RES BOUGAINVILLE RESIDENCE&RESORT                                        [01.04.402]   \n",
      "PESSEGUEIRAS                                                                            [01.04.402]   \n",
      "CRISTINO RODRIGUES NOGUEIRA                                                             [01.03.541]   \n",
      "PROJETADA B - COND DANCAIZ RESIDENCE                                                    [01.02.476]   \n",
      "\n",
      "                                                                                              nr_ui  \\\n",
      "nm_logradouro                                                                                         \n",
      "DEPUTADO HEITOR ALENCAR FURTADO                   [5555.0, 5650.0, 5760.0, 5945.0, 6088.42857142...   \n",
      "PRES TANCREDO NEVES                               [2920.0, 2968.0, nan, 3016.0, nan, 3144.0, 422...   \n",
      "AMAZONAS                                          [1436.0, 1526.0, 1613.5, 1668.6666666666667, 1...   \n",
      "LUIZ SPIGOLON                                     [881.0, 989.2, 1138.0, 1229.3333333333333, 133...   \n",
      "ANTONIO FELIPPE                                   [1668.7, 1554.7777777777778, 1404.6, 1232.0, 9...   \n",
      "...                                                                                             ...   \n",
      "JACARANDA - COND RES GREEN PARK                                                               [nan]   \n",
      "JACARANDA-COND RES BOUGAINVILLE RESIDENCE&RESORT                                              [nan]   \n",
      "PESSEGUEIRAS                                                                                  [nan]   \n",
      "CRISTINO RODRIGUES NOGUEIRA                                                                 [480.0]   \n",
      "PROJETADA B - COND DANCAIZ RESIDENCE                                                          [nan]   \n",
      "\n",
      "                                                  qt_quadras  \n",
      "nm_logradouro                                                 \n",
      "DEPUTADO HEITOR ALENCAR FURTADO                          106  \n",
      "PRES TANCREDO NEVES                                       70  \n",
      "AMAZONAS                                                  58  \n",
      "LUIZ SPIGOLON                                             55  \n",
      "ANTONIO FELIPPE                                           54  \n",
      "...                                                      ...  \n",
      "JACARANDA - COND RES GREEN PARK                            1  \n",
      "JACARANDA-COND RES BOUGAINVILLE RESIDENCE&RESORT           1  \n",
      "PESSEGUEIRAS                                               1  \n",
      "CRISTINO RODRIGUES NOGUEIRA                                1  \n",
      "PROJETADA B - COND DANCAIZ RESIDENCE                       1  \n",
      "\n",
      "[1000 rows x 3 columns]\n"
     ]
    }
   ],
   "source": [
    "# Agrupa as linhas com mesmo id_quadra\n",
    "logradouros_por_quadra =df_ch_quadra_logradouro.groupby('id_quadra').agg(lambda x: set(x))\n",
    "logradouros_por_quadra['qt_logradouros'] = df_ch_quadra_logradouro.groupby('id_quadra')[['nm_logradouro']].count()\n",
    "logradouros_por_quadra.sort_values(by='qt_logradouros', inplace=True, ascending=False)\n",
    "logradouros_por_quadra.to_csv('./paranavai_logradouros_por_quadra.csv')\n",
    "#print(logradouros_por_quadra)\n",
    "\n",
    "# Agrupa as linhas com mesmo nm_logradouro\n",
    "#quadras_por_logradouro = df_ch_quadra_logradouro.groupby('nm_logradouro')[['id_quadra']].agg(lambda x: set(x))\n",
    "quadras_por_logradouro = df_ch_quadra_logradouro.groupby('nm_logradouro')[['id_quadra','nr_ui']].agg(lambda x: list(x))\n",
    "\n",
    "quadras_por_logradouro['qt_quadras'] = df_ch_quadra_logradouro.groupby('nm_logradouro')[['id_quadra']].count()\n",
    "quadras_por_logradouro.sort_values(by='qt_quadras', inplace=True, ascending=False)\n",
    "quadras_por_logradouro.to_csv('./paranavai_quadras_por_logradouro.csv')\n",
    "print(quadras_por_logradouro)"
   ]
  },
  {
   "cell_type": "code",
   "execution_count": null,
   "metadata": {},
   "outputs": [],
   "source": [
    "semente = df.loc[df['nm_logradouro'] == 'DEPUTADO HEITOR ALENCAR FURTADO']\n",
    "print(semente)"
   ]
  },
  {
   "cell_type": "code",
   "execution_count": null,
   "metadata": {
    "scrolled": true
   },
   "outputs": [],
   "source": [
    "paralelas = pd.merge(semente, df, how = 'inner', on = 'id_quadra')\n",
    "paralelas = paralelas.loc[paralelas['nm_logradouro_y']!='DEPUTADO HEITOR ALENCAR FURTADO']\n",
    "paralelas = paralelas[['nm_logradouro_y', 'id_quadra']]\n",
    "\n",
    "paralelas = paralelas.groupby(['nm_logradouro_y']).count()\n",
    "paralelas.sort_values(by='id_quadra', inplace=True, ascending=False)\n",
    "\n",
    "print(paralelas)\n",
    "\n"
   ]
  }
 ],
 "metadata": {
  "kernelspec": {
   "display_name": "Python 3",
   "language": "python",
   "name": "python3"
  },
  "language_info": {
   "codemirror_mode": {
    "name": "ipython",
    "version": 3
   },
   "file_extension": ".py",
   "mimetype": "text/x-python",
   "name": "python",
   "nbconvert_exporter": "python",
   "pygments_lexer": "ipython3",
   "version": "3.8.5"
  }
 },
 "nbformat": 4,
 "nbformat_minor": 5
}
